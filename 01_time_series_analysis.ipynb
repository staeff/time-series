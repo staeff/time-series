{
 "cells": [
  {
   "cell_type": "code",
   "execution_count": 1,
   "metadata": {},
   "outputs": [
    {
     "data": {
      "text/html": [
       "<html>\n",
       "<link rel=\"stylesheet\" href=\"https://marysia.nl/assets/GDD/css/custom.css\">\n",
       "</html>"
      ],
      "text/plain": [
       "<IPython.core.display.HTML object>"
      ]
     },
     "execution_count": 1,
     "metadata": {},
     "output_type": "execute_result"
    }
   ],
   "source": [
    "# Optional: change Jupyter Notebook theme to GDD theme\n",
    "from IPython.core.display import HTML\n",
    "HTML(url='https://gdd.li/jupyter-theme')"
   ]
  },
  {
   "cell_type": "markdown",
   "metadata": {},
   "source": [
    "![footer_logo](images/logo.png)\n",
    "# Time Series Analysis\n",
    "\n",
    "\n",
    "## Goal\n",
    "\n",
    "Pandas is the core data manipulation and analysis library for Python and it has some amazing utilities for dealing with series time data. \n",
    "\n",
    "The goal of this notebook is to familiarise ourselves with how Pandas can be used to work with Time Series data. \n",
    "\n",
    "We shall use a real Time Series dataset to demonstrate these functionalities and learn some fundamental techniques for Time Series analysis.\n",
    "\n",
    "## Program\n",
    "1. [Time Utilities in Pandas](#timeutil)\n",
    "2. [Reading in Time Series Data](#read)\n",
    "3. [Time-based Manipulations](#mani)\n",
    "4. [Smoothing](#roll)\n",
    "5. [Summary](#sum)\n"
   ]
  },
  {
   "cell_type": "code",
   "execution_count": 1,
   "metadata": {},
   "outputs": [],
   "source": [
    "import pandas as pd"
   ]
  },
  {
   "cell_type": "markdown",
   "metadata": {},
   "source": [
    "<a id='timeutil'></a>\n",
    "\n",
    "# 1. Time Utilities in Pandas\n",
    "\n",
    "## Timestamps\n",
    "![footer_logo](images/clock.jpeg)\n",
    "\n",
    "In **pandas**, specific times are represented as **Timestamps**. A Timestamp is the pandas equivalent of python’s Datetime and is interchangeable with it in most cases.\n",
    "\n",
    "Pandas can create datetime data from strings formated as `yyyy-mm-ddThh:mm:ss.ms` using `pd.Timestamp()`. The date units are years (‘Y’), months (‘M’), weeks (‘W’), and days (‘D’), while the time units are hours (‘h’) in 24 hour format, minutes (‘m’), seconds (‘s’), milliseconds (‘ms’). Note that time units are combined with date units using `'T'"
   ]
  },
  {
   "cell_type": "code",
   "execution_count": 18,
   "metadata": {
    "scrolled": true
   },
   "outputs": [
    {
     "name": "stdout",
     "output_type": "stream",
     "text": [
      "the date is 2011-11-04 and the time is 00:05:23.283000\n",
      "This is the 2011-11-04 00:05:23.283000\n"
     ]
    }
   ],
   "source": [
    "date = pd.Timestamp('2011/11/04 00:05:23.283')\n",
    "print(f'the date is {date.date()} and the time is {date.time()}')\n",
    "print(f'This is the {date}')"
   ]
  },
  {
   "cell_type": "code",
   "execution_count": 3,
   "metadata": {},
   "outputs": [],
   "source": [
    "import time"
   ]
  },
  {
   "cell_type": "code",
   "execution_count": 47,
   "metadata": {},
   "outputs": [
    {
     "data": {
      "text/plain": [
       "Timestamp('2017-01-01 12:00:00')"
      ]
     },
     "execution_count": 47,
     "metadata": {},
     "output_type": "execute_result"
    }
   ],
   "source": [
    "pd.Timestamp('01.01.2017 12')"
   ]
  },
  {
   "cell_type": "markdown",
   "metadata": {},
   "source": [
    "Pandas Timestamps support a wide range of [operations](https://pandas.pydata.org/pandas-docs/stable/reference/api/pandas.Timestamp.html).\n",
    "\n",
    "For example, we can access various attributes stored in the Timestamp."
   ]
  },
  {
   "cell_type": "markdown",
   "metadata": {},
   "source": [
    "## Markdown"
   ]
  },
  {
   "cell_type": "code",
   "execution_count": 48,
   "metadata": {},
   "outputs": [
    {
     "data": {
      "text/plain": [
       "28"
      ]
     },
     "execution_count": 48,
     "metadata": {},
     "output_type": "execute_result"
    }
   ],
   "source": [
    "pd.Timestamp('2022-02-20T18:34:56').daysinmonth"
   ]
  },
  {
   "cell_type": "code",
   "execution_count": 49,
   "metadata": {},
   "outputs": [
    {
     "data": {
      "text/plain": [
       "7"
      ]
     },
     "execution_count": 49,
     "metadata": {},
     "output_type": "execute_result"
    }
   ],
   "source": [
    "pd.Timestamp('2022-02-20T18:34:56').weekofyear"
   ]
  },
  {
   "cell_type": "code",
   "execution_count": 50,
   "metadata": {},
   "outputs": [
    {
     "data": {
      "text/plain": [
       "1"
      ]
     },
     "execution_count": 50,
     "metadata": {},
     "output_type": "execute_result"
    }
   ],
   "source": [
    "pd.Timestamp('2022-02-20T18:34:56').quarter"
   ]
  },
  {
   "cell_type": "markdown",
   "metadata": {},
   "source": [
    "We can also perform time based operations and use time related methods."
   ]
  },
  {
   "cell_type": "code",
   "execution_count": 51,
   "metadata": {},
   "outputs": [
    {
     "data": {
      "text/plain": [
       "Timedelta('733 days 00:10:24')"
      ]
     },
     "execution_count": 51,
     "metadata": {},
     "output_type": "execute_result"
    }
   ],
   "source": [
    "pd.Timestamp('2022-02-20T18:34:56') - pd.Timestamp('2020-02-18T18:24:32')"
   ]
  },
  {
   "cell_type": "code",
   "execution_count": 52,
   "metadata": {},
   "outputs": [
    {
     "data": {
      "text/plain": [
       "'February'"
      ]
     },
     "execution_count": 52,
     "metadata": {},
     "output_type": "execute_result"
    }
   ],
   "source": [
    "pd.Timestamp('2022-02-20T18:34:56').month_name()"
   ]
  },
  {
   "cell_type": "code",
   "execution_count": 53,
   "metadata": {},
   "outputs": [
    {
     "data": {
      "text/plain": [
       "'Sunday'"
      ]
     },
     "execution_count": 53,
     "metadata": {},
     "output_type": "execute_result"
    }
   ],
   "source": [
    "pd.Timestamp('2022-02-20T18:34:56').day_name()"
   ]
  },
  {
   "cell_type": "markdown",
   "metadata": {},
   "source": [
    "<a id='ex'></a>\n",
    "### <mark>Exercise: Investigate the timestamp features and methods\n",
    "\n",
    "We've seen a few examples, but let's investigate further.\n",
    "- What day of the year is it today\n",
    "- Are we in a leap year?\n",
    "- How long is it until a Public Holiday (e.g. Christmas)?\n"
   ]
  },
  {
   "cell_type": "code",
   "execution_count": 54,
   "metadata": {},
   "outputs": [
    {
     "data": {
      "text/plain": [
       "Timestamp('2022-06-12 21:13:44.730454')"
      ]
     },
     "execution_count": 54,
     "metadata": {},
     "output_type": "execute_result"
    }
   ],
   "source": [
    "current_date = pd.Timestamp('today')\n",
    "current_date"
   ]
  },
  {
   "cell_type": "code",
   "execution_count": 56,
   "metadata": {},
   "outputs": [
    {
     "data": {
      "text/plain": [
       "False"
      ]
     },
     "execution_count": 56,
     "metadata": {},
     "output_type": "execute_result"
    }
   ],
   "source": [
    "current_date.is_leap_year"
   ]
  },
  {
   "cell_type": "code",
   "execution_count": 57,
   "metadata": {},
   "outputs": [
    {
     "data": {
      "text/plain": [
       "Timedelta('194 days 02:46:15.269546')"
      ]
     },
     "execution_count": 57,
     "metadata": {},
     "output_type": "execute_result"
    }
   ],
   "source": [
    "pd.Timestamp('24.12.2022') - current_date"
   ]
  },
  {
   "cell_type": "markdown",
   "metadata": {},
   "source": [
    "<a id='read'></a>\n",
    "![footer_logo](images/air-quality.jpeg) \n",
    "\n",
    "\n",
    "## 2. Reading in Time Series Data\n",
    "\n",
    "\n",
    "Throughout this taster will use a dataset containing daily air quality index in Californian counties between 2007 and 2017 (based on a larger dataset from [Kaggle](https://www.kaggle.com/epa/carbon-monoxide)). \n",
    "\n",
    "Each datapoint indicates the average air quality index on a certain day: the higher the value - the more polluted."
   ]
  },
  {
   "cell_type": "code",
   "execution_count": 58,
   "metadata": {},
   "outputs": [
    {
     "data": {
      "text/html": [
       "<div>\n",
       "<style scoped>\n",
       "    .dataframe tbody tr th:only-of-type {\n",
       "        vertical-align: middle;\n",
       "    }\n",
       "\n",
       "    .dataframe tbody tr th {\n",
       "        vertical-align: top;\n",
       "    }\n",
       "\n",
       "    .dataframe thead th {\n",
       "        text-align: right;\n",
       "    }\n",
       "</style>\n",
       "<table border=\"1\" class=\"dataframe\">\n",
       "  <thead>\n",
       "    <tr style=\"text-align: right;\">\n",
       "      <th></th>\n",
       "      <th>date_local</th>\n",
       "      <th>aqi</th>\n",
       "    </tr>\n",
       "  </thead>\n",
       "  <tbody>\n",
       "    <tr>\n",
       "      <th>0</th>\n",
       "      <td>2007-08-01</td>\n",
       "      <td>5.522124</td>\n",
       "    </tr>\n",
       "    <tr>\n",
       "      <th>1</th>\n",
       "      <td>2007-08-02</td>\n",
       "      <td>5.894895</td>\n",
       "    </tr>\n",
       "    <tr>\n",
       "      <th>2</th>\n",
       "      <td>2007-08-03</td>\n",
       "      <td>5.928358</td>\n",
       "    </tr>\n",
       "    <tr>\n",
       "      <th>3</th>\n",
       "      <td>2007-08-04</td>\n",
       "      <td>5.792285</td>\n",
       "    </tr>\n",
       "    <tr>\n",
       "      <th>4</th>\n",
       "      <td>2007-08-05</td>\n",
       "      <td>5.744807</td>\n",
       "    </tr>\n",
       "  </tbody>\n",
       "</table>\n",
       "</div>"
      ],
      "text/plain": [
       "   date_local       aqi\n",
       "0  2007-08-01  5.522124\n",
       "1  2007-08-02  5.894895\n",
       "2  2007-08-03  5.928358\n",
       "3  2007-08-04  5.792285\n",
       "4  2007-08-05  5.744807"
      ]
     },
     "execution_count": 58,
     "metadata": {},
     "output_type": "execute_result"
    }
   ],
   "source": [
    "air_df = pd.read_csv('data/air_quality.csv')\n",
    "air_df.head()"
   ]
  },
  {
   "cell_type": "markdown",
   "metadata": {},
   "source": [
    "Typically time data is contained in a separate column of standard strings; notice how our time data is not currently recognised as Timestamps."
   ]
  },
  {
   "cell_type": "code",
   "execution_count": 59,
   "metadata": {},
   "outputs": [
    {
     "name": "stdout",
     "output_type": "stream",
     "text": [
      "<class 'pandas.core.frame.DataFrame'>\n",
      "RangeIndex: 3562 entries, 0 to 3561\n",
      "Data columns (total 2 columns):\n",
      " #   Column      Non-Null Count  Dtype  \n",
      "---  ------      --------------  -----  \n",
      " 0   date_local  3562 non-null   object \n",
      " 1   aqi         3562 non-null   float64\n",
      "dtypes: float64(1), object(1)\n",
      "memory usage: 55.8+ KB\n"
     ]
    }
   ],
   "source": [
    "air_df.info()"
   ]
  },
  {
   "cell_type": "markdown",
   "metadata": {},
   "source": [
    "In order to make our time data machine readable, we can set `parse_dates` with the list of columns to be converted to Pandas Timestamps when reading the data with `pd.read_csv`. This automatically identifies the format of the dates, although specific formatting is also possible.\n",
    "\n",
    "For most time-series analysis functionality, we also benefit from setting the dates as the index in the Pandas DataFrame. "
   ]
  },
  {
   "cell_type": "code",
   "execution_count": 60,
   "metadata": {},
   "outputs": [
    {
     "data": {
      "text/html": [
       "<div>\n",
       "<style scoped>\n",
       "    .dataframe tbody tr th:only-of-type {\n",
       "        vertical-align: middle;\n",
       "    }\n",
       "\n",
       "    .dataframe tbody tr th {\n",
       "        vertical-align: top;\n",
       "    }\n",
       "\n",
       "    .dataframe thead th {\n",
       "        text-align: right;\n",
       "    }\n",
       "</style>\n",
       "<table border=\"1\" class=\"dataframe\">\n",
       "  <thead>\n",
       "    <tr style=\"text-align: right;\">\n",
       "      <th></th>\n",
       "      <th>aqi</th>\n",
       "    </tr>\n",
       "    <tr>\n",
       "      <th>date_local</th>\n",
       "      <th></th>\n",
       "    </tr>\n",
       "  </thead>\n",
       "  <tbody>\n",
       "    <tr>\n",
       "      <th>2007-08-01</th>\n",
       "      <td>5.522124</td>\n",
       "    </tr>\n",
       "    <tr>\n",
       "      <th>2007-08-02</th>\n",
       "      <td>5.894895</td>\n",
       "    </tr>\n",
       "    <tr>\n",
       "      <th>2007-08-03</th>\n",
       "      <td>5.928358</td>\n",
       "    </tr>\n",
       "    <tr>\n",
       "      <th>2007-08-04</th>\n",
       "      <td>5.792285</td>\n",
       "    </tr>\n",
       "    <tr>\n",
       "      <th>2007-08-05</th>\n",
       "      <td>5.744807</td>\n",
       "    </tr>\n",
       "  </tbody>\n",
       "</table>\n",
       "</div>"
      ],
      "text/plain": [
       "                 aqi\n",
       "date_local          \n",
       "2007-08-01  5.522124\n",
       "2007-08-02  5.894895\n",
       "2007-08-03  5.928358\n",
       "2007-08-04  5.792285\n",
       "2007-08-05  5.744807"
      ]
     },
     "execution_count": 60,
     "metadata": {},
     "output_type": "execute_result"
    }
   ],
   "source": [
    "air_df = pd.read_csv('data/air_quality.csv', index_col='date_local', parse_dates=True)\n",
    "air_df.head()"
   ]
  },
  {
   "cell_type": "code",
   "execution_count": 61,
   "metadata": {},
   "outputs": [
    {
     "name": "stdout",
     "output_type": "stream",
     "text": [
      "<class 'pandas.core.frame.DataFrame'>\n",
      "DatetimeIndex: 3562 entries, 2007-08-01 to 2017-05-01\n",
      "Data columns (total 1 columns):\n",
      " #   Column  Non-Null Count  Dtype  \n",
      "---  ------  --------------  -----  \n",
      " 0   aqi     3562 non-null   float64\n",
      "dtypes: float64(1)\n",
      "memory usage: 55.7 KB\n"
     ]
    }
   ],
   "source": [
    "air_df.info()"
   ]
  },
  {
   "cell_type": "markdown",
   "metadata": {},
   "source": [
    "With the Timestamps as the index, we can directly filter on our DataFrame using the`loc` method and easily produce plots to visualise our data."
   ]
  },
  {
   "cell_type": "code",
   "execution_count": 62,
   "metadata": {},
   "outputs": [
    {
     "data": {
      "text/html": [
       "<div>\n",
       "<style scoped>\n",
       "    .dataframe tbody tr th:only-of-type {\n",
       "        vertical-align: middle;\n",
       "    }\n",
       "\n",
       "    .dataframe tbody tr th {\n",
       "        vertical-align: top;\n",
       "    }\n",
       "\n",
       "    .dataframe thead th {\n",
       "        text-align: right;\n",
       "    }\n",
       "</style>\n",
       "<table border=\"1\" class=\"dataframe\">\n",
       "  <thead>\n",
       "    <tr style=\"text-align: right;\">\n",
       "      <th></th>\n",
       "      <th>aqi</th>\n",
       "    </tr>\n",
       "    <tr>\n",
       "      <th>date_local</th>\n",
       "      <th></th>\n",
       "    </tr>\n",
       "  </thead>\n",
       "  <tbody>\n",
       "    <tr>\n",
       "      <th>2008-02-01</th>\n",
       "      <td>9.341598</td>\n",
       "    </tr>\n",
       "    <tr>\n",
       "      <th>2008-02-02</th>\n",
       "      <td>8.629834</td>\n",
       "    </tr>\n",
       "    <tr>\n",
       "      <th>2008-02-03</th>\n",
       "      <td>8.371191</td>\n",
       "    </tr>\n",
       "    <tr>\n",
       "      <th>2008-02-04</th>\n",
       "      <td>7.723757</td>\n",
       "    </tr>\n",
       "    <tr>\n",
       "      <th>2008-02-05</th>\n",
       "      <td>8.641873</td>\n",
       "    </tr>\n",
       "    <tr>\n",
       "      <th>2008-02-06</th>\n",
       "      <td>8.952909</td>\n",
       "    </tr>\n",
       "    <tr>\n",
       "      <th>2008-02-07</th>\n",
       "      <td>8.801653</td>\n",
       "    </tr>\n",
       "    <tr>\n",
       "      <th>2008-02-08</th>\n",
       "      <td>9.767956</td>\n",
       "    </tr>\n",
       "    <tr>\n",
       "      <th>2008-02-09</th>\n",
       "      <td>10.505525</td>\n",
       "    </tr>\n",
       "    <tr>\n",
       "      <th>2008-02-10</th>\n",
       "      <td>9.812155</td>\n",
       "    </tr>\n",
       "  </tbody>\n",
       "</table>\n",
       "</div>"
      ],
      "text/plain": [
       "                  aqi\n",
       "date_local           \n",
       "2008-02-01   9.341598\n",
       "2008-02-02   8.629834\n",
       "2008-02-03   8.371191\n",
       "2008-02-04   7.723757\n",
       "2008-02-05   8.641873\n",
       "2008-02-06   8.952909\n",
       "2008-02-07   8.801653\n",
       "2008-02-08   9.767956\n",
       "2008-02-09  10.505525\n",
       "2008-02-10   9.812155"
      ]
     },
     "execution_count": 62,
     "metadata": {},
     "output_type": "execute_result"
    }
   ],
   "source": [
    "air_df.loc['2008-02-01':'2008-02-10']"
   ]
  },
  {
   "cell_type": "code",
   "execution_count": 63,
   "metadata": {},
   "outputs": [
    {
     "data": {
      "image/png": "[encoded data removed]",
      "text/plain": [
       "<Figure size 1152x288 with 1 Axes>"
      ]
     },
     "metadata": {
      "needs_background": "light"
     },
     "output_type": "display_data"
    }
   ],
   "source": [
    "air_df.plot(figsize=(16,4));"
   ]
  },
  {
   "cell_type": "markdown",
   "metadata": {},
   "source": [
    "<a id='mani'></a>\n",
    "\n",
    "## 3. Time-based manipulations\n",
    "\n",
    "### Easy Aggregations\n",
    "\n",
    "Another advantage of the datetime-index approach is that it provides us with some functionality for easy time-based aggregations. One such aggregation is `resample`. \n",
    "\n",
    "For example, we can easily calculate the _mean_ per _year_ by running:"
   ]
  },
  {
   "cell_type": "code",
   "execution_count": 64,
   "metadata": {},
   "outputs": [
    {
     "data": {
      "text/html": [
       "<div>\n",
       "<style scoped>\n",
       "    .dataframe tbody tr th:only-of-type {\n",
       "        vertical-align: middle;\n",
       "    }\n",
       "\n",
       "    .dataframe tbody tr th {\n",
       "        vertical-align: top;\n",
       "    }\n",
       "\n",
       "    .dataframe thead th {\n",
       "        text-align: right;\n",
       "    }\n",
       "</style>\n",
       "<table border=\"1\" class=\"dataframe\">\n",
       "  <thead>\n",
       "    <tr style=\"text-align: right;\">\n",
       "      <th></th>\n",
       "      <th>aqi</th>\n",
       "    </tr>\n",
       "    <tr>\n",
       "      <th>date_local</th>\n",
       "      <th></th>\n",
       "    </tr>\n",
       "  </thead>\n",
       "  <tbody>\n",
       "    <tr>\n",
       "      <th>2007-12-31</th>\n",
       "      <td>7.450299</td>\n",
       "    </tr>\n",
       "    <tr>\n",
       "      <th>2008-12-31</th>\n",
       "      <td>6.426417</td>\n",
       "    </tr>\n",
       "    <tr>\n",
       "      <th>2009-12-31</th>\n",
       "      <td>6.000169</td>\n",
       "    </tr>\n",
       "    <tr>\n",
       "      <th>2010-12-31</th>\n",
       "      <td>5.672559</td>\n",
       "    </tr>\n",
       "    <tr>\n",
       "      <th>2011-12-31</th>\n",
       "      <td>5.449307</td>\n",
       "    </tr>\n",
       "    <tr>\n",
       "      <th>2012-12-31</th>\n",
       "      <td>5.193016</td>\n",
       "    </tr>\n",
       "    <tr>\n",
       "      <th>2013-12-31</th>\n",
       "      <td>4.767681</td>\n",
       "    </tr>\n",
       "    <tr>\n",
       "      <th>2014-12-31</th>\n",
       "      <td>4.609659</td>\n",
       "    </tr>\n",
       "    <tr>\n",
       "      <th>2015-12-31</th>\n",
       "      <td>4.679786</td>\n",
       "    </tr>\n",
       "    <tr>\n",
       "      <th>2016-12-31</th>\n",
       "      <td>4.593206</td>\n",
       "    </tr>\n",
       "    <tr>\n",
       "      <th>2017-12-31</th>\n",
       "      <td>4.542994</td>\n",
       "    </tr>\n",
       "  </tbody>\n",
       "</table>\n",
       "</div>"
      ],
      "text/plain": [
       "                 aqi\n",
       "date_local          \n",
       "2007-12-31  7.450299\n",
       "2008-12-31  6.426417\n",
       "2009-12-31  6.000169\n",
       "2010-12-31  5.672559\n",
       "2011-12-31  5.449307\n",
       "2012-12-31  5.193016\n",
       "2013-12-31  4.767681\n",
       "2014-12-31  4.609659\n",
       "2015-12-31  4.679786\n",
       "2016-12-31  4.593206\n",
       "2017-12-31  4.542994"
      ]
     },
     "execution_count": 64,
     "metadata": {},
     "output_type": "execute_result"
    }
   ],
   "source": [
    "air_df.resample('Y').mean()"
   ]
  },
  {
   "cell_type": "markdown",
   "metadata": {},
   "source": [
    "You can also run the same aggregation per month `M`, week `W`, day `D` or quarter `Q`. Custom aggregation periods are also possible, for example per 4 weeks `4W` or per 3 months `3M`. If the index is a timestamp that also includes times, then you can also aggregate per hour. See [here] for a more comprehensive list of offsets, that can be as specific as _'Business Month Begin'_. \n",
    "\n",
    "[here]: https://pandas.pydata.org/pandas-docs/stable/user_guide/timeseries.html#dateoffset-objects\n",
    "\n",
    "In the cell below we compute the mean AQI for consecutive 4 week periods."
   ]
  },
  {
   "cell_type": "code",
   "execution_count": 66,
   "metadata": {
    "scrolled": true
   },
   "outputs": [
    {
     "data": {
      "text/html": [
       "<div>\n",
       "<style scoped>\n",
       "    .dataframe tbody tr th:only-of-type {\n",
       "        vertical-align: middle;\n",
       "    }\n",
       "\n",
       "    .dataframe tbody tr th {\n",
       "        vertical-align: top;\n",
       "    }\n",
       "\n",
       "    .dataframe thead th {\n",
       "        text-align: right;\n",
       "    }\n",
       "</style>\n",
       "<table border=\"1\" class=\"dataframe\">\n",
       "  <thead>\n",
       "    <tr style=\"text-align: right;\">\n",
       "      <th></th>\n",
       "      <th>aqi</th>\n",
       "    </tr>\n",
       "    <tr>\n",
       "      <th>date_local</th>\n",
       "      <th></th>\n",
       "    </tr>\n",
       "  </thead>\n",
       "  <tbody>\n",
       "    <tr>\n",
       "      <th>2007-08-05</th>\n",
       "      <td>5.776494</td>\n",
       "    </tr>\n",
       "    <tr>\n",
       "      <th>2007-09-02</th>\n",
       "      <td>5.458930</td>\n",
       "    </tr>\n",
       "    <tr>\n",
       "      <th>2007-09-30</th>\n",
       "      <td>5.833649</td>\n",
       "    </tr>\n",
       "    <tr>\n",
       "      <th>2007-10-28</th>\n",
       "      <td>7.204429</td>\n",
       "    </tr>\n",
       "    <tr>\n",
       "      <th>2007-11-25</th>\n",
       "      <td>9.091922</td>\n",
       "    </tr>\n",
       "  </tbody>\n",
       "</table>\n",
       "</div>"
      ],
      "text/plain": [
       "                 aqi\n",
       "date_local          \n",
       "2007-08-05  5.776494\n",
       "2007-09-02  5.458930\n",
       "2007-09-30  5.833649\n",
       "2007-10-28  7.204429\n",
       "2007-11-25  9.091922"
      ]
     },
     "execution_count": 66,
     "metadata": {},
     "output_type": "execute_result"
    }
   ],
   "source": [
    "air_df.resample('4W').mean().head()"
   ]
  },
  {
   "cell_type": "markdown",
   "metadata": {},
   "source": [
    "We can also use general `.agg()` methods here to apply multiple aggregators, including custom aggregations. For example, the spread per month: "
   ]
  },
  {
   "cell_type": "code",
   "execution_count": 74,
   "metadata": {},
   "outputs": [
    {
     "data": {
      "text/html": [
       "<div>\n",
       "<style scoped>\n",
       "    .dataframe tbody tr th:only-of-type {\n",
       "        vertical-align: middle;\n",
       "    }\n",
       "\n",
       "    .dataframe tbody tr th {\n",
       "        vertical-align: top;\n",
       "    }\n",
       "\n",
       "    .dataframe thead th {\n",
       "        text-align: right;\n",
       "    }\n",
       "</style>\n",
       "<table border=\"1\" class=\"dataframe\">\n",
       "  <thead>\n",
       "    <tr style=\"text-align: right;\">\n",
       "      <th></th>\n",
       "      <th>mean</th>\n",
       "      <th>var</th>\n",
       "      <th>spread</th>\n",
       "    </tr>\n",
       "    <tr>\n",
       "      <th>date_local</th>\n",
       "      <th></th>\n",
       "      <th></th>\n",
       "      <th></th>\n",
       "    </tr>\n",
       "  </thead>\n",
       "  <tbody>\n",
       "    <tr>\n",
       "      <th>2007-08-31</th>\n",
       "      <td>5.526863</td>\n",
       "      <td>0.126435</td>\n",
       "      <td>1.687158</td>\n",
       "    </tr>\n",
       "    <tr>\n",
       "      <th>2007-09-30</th>\n",
       "      <td>5.791397</td>\n",
       "      <td>0.348850</td>\n",
       "      <td>2.482906</td>\n",
       "    </tr>\n",
       "    <tr>\n",
       "      <th>2007-10-31</th>\n",
       "      <td>7.377305</td>\n",
       "      <td>1.181423</td>\n",
       "      <td>3.623544</td>\n",
       "    </tr>\n",
       "    <tr>\n",
       "      <th>2007-11-30</th>\n",
       "      <td>9.303497</td>\n",
       "      <td>0.936076</td>\n",
       "      <td>4.459595</td>\n",
       "    </tr>\n",
       "    <tr>\n",
       "      <th>2007-12-31</th>\n",
       "      <td>9.258700</td>\n",
       "      <td>1.286069</td>\n",
       "      <td>4.702944</td>\n",
       "    </tr>\n",
       "  </tbody>\n",
       "</table>\n",
       "</div>"
      ],
      "text/plain": [
       "                mean       var    spread\n",
       "date_local                              \n",
       "2007-08-31  5.526863  0.126435  1.687158\n",
       "2007-09-30  5.791397  0.348850  2.482906\n",
       "2007-10-31  7.377305  1.181423  3.623544\n",
       "2007-11-30  9.303497  0.936076  4.459595\n",
       "2007-12-31  9.258700  1.286069  4.702944"
      ]
     },
     "execution_count": 74,
     "metadata": {},
     "output_type": "execute_result"
    }
   ],
   "source": [
    "(\n",
    "    air_df\n",
    "    .resample('M')\n",
    "    .agg([\n",
    "        ('mean','mean'),\n",
    "        ('var','var'),\n",
    "        ('spread', lambda month_df: month_df.max() - month_df.min())\n",
    "    ])\n",
    "    .droplevel(0, axis=1)\n",
    "    .head()\n",
    ")"
   ]
  },
  {
   "cell_type": "markdown",
   "metadata": {},
   "source": [
    "### Time Based Features \n",
    "\n",
    "Any column in Pandas that is of dtype `datetime` has a module attached that can be used to perform vectorised datetime operations. This is very similar to the `.str` module attached to string columns. It is a good thing to explore since the alternative is non-vectorised and much slower.\n",
    "\n",
    "Below is an example of getting the quarter and adding the day name. Feel free to explore [other](https://pandas.pydata.org/pandas-docs/stable/reference/series.html#api-series-dt) properties and methods."
   ]
  },
  {
   "cell_type": "code",
   "execution_count": 75,
   "metadata": {
    "scrolled": true
   },
   "outputs": [
    {
     "data": {
      "text/html": [
       "<div>\n",
       "<style scoped>\n",
       "    .dataframe tbody tr th:only-of-type {\n",
       "        vertical-align: middle;\n",
       "    }\n",
       "\n",
       "    .dataframe tbody tr th {\n",
       "        vertical-align: top;\n",
       "    }\n",
       "\n",
       "    .dataframe thead th {\n",
       "        text-align: right;\n",
       "    }\n",
       "</style>\n",
       "<table border=\"1\" class=\"dataframe\">\n",
       "  <thead>\n",
       "    <tr style=\"text-align: right;\">\n",
       "      <th></th>\n",
       "      <th>aqi</th>\n",
       "      <th>quarter</th>\n",
       "      <th>weekday</th>\n",
       "    </tr>\n",
       "    <tr>\n",
       "      <th>date_local</th>\n",
       "      <th></th>\n",
       "      <th></th>\n",
       "      <th></th>\n",
       "    </tr>\n",
       "  </thead>\n",
       "  <tbody>\n",
       "    <tr>\n",
       "      <th>2007-08-01</th>\n",
       "      <td>5.522124</td>\n",
       "      <td>3</td>\n",
       "      <td>Wednesday</td>\n",
       "    </tr>\n",
       "    <tr>\n",
       "      <th>2007-08-02</th>\n",
       "      <td>5.894895</td>\n",
       "      <td>3</td>\n",
       "      <td>Thursday</td>\n",
       "    </tr>\n",
       "    <tr>\n",
       "      <th>2007-08-03</th>\n",
       "      <td>5.928358</td>\n",
       "      <td>3</td>\n",
       "      <td>Friday</td>\n",
       "    </tr>\n",
       "    <tr>\n",
       "      <th>2007-08-04</th>\n",
       "      <td>5.792285</td>\n",
       "      <td>3</td>\n",
       "      <td>Saturday</td>\n",
       "    </tr>\n",
       "    <tr>\n",
       "      <th>2007-08-05</th>\n",
       "      <td>5.744807</td>\n",
       "      <td>3</td>\n",
       "      <td>Sunday</td>\n",
       "    </tr>\n",
       "  </tbody>\n",
       "</table>\n",
       "</div>"
      ],
      "text/plain": [
       "                 aqi  quarter    weekday\n",
       "date_local                              \n",
       "2007-08-01  5.522124        3  Wednesday\n",
       "2007-08-02  5.894895        3   Thursday\n",
       "2007-08-03  5.928358        3     Friday\n",
       "2007-08-04  5.792285        3   Saturday\n",
       "2007-08-05  5.744807        3     Sunday"
      ]
     },
     "execution_count": 75,
     "metadata": {},
     "output_type": "execute_result"
    }
   ],
   "source": [
    "(\n",
    "    air_df\n",
    "    .assign(quarter = lambda df: df.index.quarter,\n",
    "            weekday = lambda df: df.index.day_name())\n",
    "    .head()\n",
    ")"
   ]
  },
  {
   "cell_type": "markdown",
   "metadata": {},
   "source": [
    "### <mark>Exercise: Resampling\n",
    "\n",
    "Compute the average AQI per week and find the week that had the worst (or highest) AQI\n",
    "\n",
    "\n"
   ]
  },
  {
   "cell_type": "code",
   "execution_count": 84,
   "metadata": {},
   "outputs": [
    {
     "data": {
      "text/plain": [
       "aqi    9.908962\n",
       "dtype: float64"
      ]
     },
     "execution_count": 84,
     "metadata": {},
     "output_type": "execute_result"
    }
   ],
   "source": [
    "air_df.resample('W-Mon').mean().max()"
   ]
  },
  {
   "cell_type": "code",
   "execution_count": 86,
   "metadata": {},
   "outputs": [
    {
     "data": {
      "text/html": [
       "<div>\n",
       "<style scoped>\n",
       "    .dataframe tbody tr th:only-of-type {\n",
       "        vertical-align: middle;\n",
       "    }\n",
       "\n",
       "    .dataframe tbody tr th {\n",
       "        vertical-align: top;\n",
       "    }\n",
       "\n",
       "    .dataframe thead th {\n",
       "        text-align: right;\n",
       "    }\n",
       "</style>\n",
       "<table border=\"1\" class=\"dataframe\">\n",
       "  <thead>\n",
       "    <tr style=\"text-align: right;\">\n",
       "      <th></th>\n",
       "      <th>aqi</th>\n",
       "    </tr>\n",
       "    <tr>\n",
       "      <th>date_local</th>\n",
       "      <th></th>\n",
       "    </tr>\n",
       "  </thead>\n",
       "  <tbody>\n",
       "    <tr>\n",
       "      <th>2007-12-24</th>\n",
       "      <td>9.908962</td>\n",
       "    </tr>\n",
       "    <tr>\n",
       "      <th>2007-12-17</th>\n",
       "      <td>9.641383</td>\n",
       "    </tr>\n",
       "    <tr>\n",
       "      <th>2007-11-19</th>\n",
       "      <td>9.553734</td>\n",
       "    </tr>\n",
       "    <tr>\n",
       "      <th>2009-11-23</th>\n",
       "      <td>9.486983</td>\n",
       "    </tr>\n",
       "    <tr>\n",
       "      <th>2008-11-24</th>\n",
       "      <td>9.435048</td>\n",
       "    </tr>\n",
       "    <tr>\n",
       "      <th>...</th>\n",
       "      <td>...</td>\n",
       "    </tr>\n",
       "    <tr>\n",
       "      <th>2014-06-16</th>\n",
       "      <td>3.155085</td>\n",
       "    </tr>\n",
       "    <tr>\n",
       "      <th>2017-05-01</th>\n",
       "      <td>3.139388</td>\n",
       "    </tr>\n",
       "    <tr>\n",
       "      <th>2013-06-24</th>\n",
       "      <td>3.134838</td>\n",
       "    </tr>\n",
       "    <tr>\n",
       "      <th>2013-07-29</th>\n",
       "      <td>3.089833</td>\n",
       "    </tr>\n",
       "    <tr>\n",
       "      <th>2014-06-30</th>\n",
       "      <td>3.029333</td>\n",
       "    </tr>\n",
       "  </tbody>\n",
       "</table>\n",
       "<p>509 rows × 1 columns</p>\n",
       "</div>"
      ],
      "text/plain": [
       "                 aqi\n",
       "date_local          \n",
       "2007-12-24  9.908962\n",
       "2007-12-17  9.641383\n",
       "2007-11-19  9.553734\n",
       "2009-11-23  9.486983\n",
       "2008-11-24  9.435048\n",
       "...              ...\n",
       "2014-06-16  3.155085\n",
       "2017-05-01  3.139388\n",
       "2013-06-24  3.134838\n",
       "2013-07-29  3.089833\n",
       "2014-06-30  3.029333\n",
       "\n",
       "[509 rows x 1 columns]"
      ]
     },
     "execution_count": 86,
     "metadata": {},
     "output_type": "execute_result"
    }
   ],
   "source": [
    "# %load answers/resample.py\n",
    "(\n",
    "    air_df\n",
    "    .resample('W-Mon')\n",
    "    .mean()\n",
    "    .sort_values(by='aqi', ascending=False)\n",
    ")"
   ]
  },
  {
   "cell_type": "markdown",
   "metadata": {},
   "source": [
    "### <mark>Exercise: Weekday with worst air quality</mark>\n",
    "\n",
    "Which day of the week has the worst (or highest) on average? Does AQI drop in the weekend? \n",
    "\n",
    " <font color='green'>Bonus </font>: Make a bar plot to better illustrate any weekly air quality patterns"
   ]
  },
  {
   "cell_type": "code",
   "execution_count": 100,
   "metadata": {},
   "outputs": [
    {
     "data": {
      "text/html": [
       "<div>\n",
       "<style scoped>\n",
       "    .dataframe tbody tr th:only-of-type {\n",
       "        vertical-align: middle;\n",
       "    }\n",
       "\n",
       "    .dataframe tbody tr th {\n",
       "        vertical-align: top;\n",
       "    }\n",
       "\n",
       "    .dataframe thead th {\n",
       "        text-align: right;\n",
       "    }\n",
       "</style>\n",
       "<table border=\"1\" class=\"dataframe\">\n",
       "  <thead>\n",
       "    <tr style=\"text-align: right;\">\n",
       "      <th></th>\n",
       "      <th>aqi</th>\n",
       "    </tr>\n",
       "    <tr>\n",
       "      <th>date_local</th>\n",
       "      <th></th>\n",
       "    </tr>\n",
       "  </thead>\n",
       "  <tbody>\n",
       "    <tr>\n",
       "      <th>2007-08-01</th>\n",
       "      <td>Wednesday</td>\n",
       "    </tr>\n",
       "    <tr>\n",
       "      <th>2007-08-02</th>\n",
       "      <td>Thursday</td>\n",
       "    </tr>\n",
       "    <tr>\n",
       "      <th>2007-08-03</th>\n",
       "      <td>Friday</td>\n",
       "    </tr>\n",
       "    <tr>\n",
       "      <th>2007-08-04</th>\n",
       "      <td>Saturday</td>\n",
       "    </tr>\n",
       "    <tr>\n",
       "      <th>2007-08-05</th>\n",
       "      <td>Sunday</td>\n",
       "    </tr>\n",
       "    <tr>\n",
       "      <th>...</th>\n",
       "      <td>...</td>\n",
       "    </tr>\n",
       "    <tr>\n",
       "      <th>2017-04-27</th>\n",
       "      <td>Thursday</td>\n",
       "    </tr>\n",
       "    <tr>\n",
       "      <th>2017-04-28</th>\n",
       "      <td>Friday</td>\n",
       "    </tr>\n",
       "    <tr>\n",
       "      <th>2017-04-29</th>\n",
       "      <td>Saturday</td>\n",
       "    </tr>\n",
       "    <tr>\n",
       "      <th>2017-04-30</th>\n",
       "      <td>Sunday</td>\n",
       "    </tr>\n",
       "    <tr>\n",
       "      <th>2017-05-01</th>\n",
       "      <td>Monday</td>\n",
       "    </tr>\n",
       "  </tbody>\n",
       "</table>\n",
       "<p>3562 rows × 1 columns</p>\n",
       "</div>"
      ],
      "text/plain": [
       "                  aqi\n",
       "date_local           \n",
       "2007-08-01  Wednesday\n",
       "2007-08-02   Thursday\n",
       "2007-08-03     Friday\n",
       "2007-08-04   Saturday\n",
       "2007-08-05     Sunday\n",
       "...               ...\n",
       "2017-04-27   Thursday\n",
       "2017-04-28     Friday\n",
       "2017-04-29   Saturday\n",
       "2017-04-30     Sunday\n",
       "2017-05-01     Monday\n",
       "\n",
       "[3562 rows x 1 columns]"
      ]
     },
     "execution_count": 100,
     "metadata": {},
     "output_type": "execute_result"
    }
   ],
   "source": [
    "air_df.apply(lambda df: df.index.day_name())"
   ]
  },
  {
   "cell_type": "code",
   "execution_count": 110,
   "metadata": {},
   "outputs": [],
   "source": [
    "# %load answers/time_based_features.py\n",
    "new_df=(\n",
    "    air_df\n",
    "    .assign(weekday = lambda df: df.index.day_name(),\n",
    "            weekday_num = lambda df: df.index.day_of_week)\n",
    "    .groupby('weekday')\n",
    "    .mean()\n",
    "    .sort_values('weekday_num')\n",
    ")\n"
   ]
  },
  {
   "cell_type": "code",
   "execution_count": 111,
   "metadata": {},
   "outputs": [
    {
     "data": {
      "text/html": [
       "<div>\n",
       "<style scoped>\n",
       "    .dataframe tbody tr th:only-of-type {\n",
       "        vertical-align: middle;\n",
       "    }\n",
       "\n",
       "    .dataframe tbody tr th {\n",
       "        vertical-align: top;\n",
       "    }\n",
       "\n",
       "    .dataframe thead th {\n",
       "        text-align: right;\n",
       "    }\n",
       "</style>\n",
       "<table border=\"1\" class=\"dataframe\">\n",
       "  <thead>\n",
       "    <tr style=\"text-align: right;\">\n",
       "      <th></th>\n",
       "      <th>aqi</th>\n",
       "      <th>weekday_num</th>\n",
       "    </tr>\n",
       "    <tr>\n",
       "      <th>weekday</th>\n",
       "      <th></th>\n",
       "      <th></th>\n",
       "    </tr>\n",
       "  </thead>\n",
       "  <tbody>\n",
       "    <tr>\n",
       "      <th>Monday</th>\n",
       "      <td>5.254971</td>\n",
       "      <td>0.0</td>\n",
       "    </tr>\n",
       "    <tr>\n",
       "      <th>Tuesday</th>\n",
       "      <td>5.396523</td>\n",
       "      <td>1.0</td>\n",
       "    </tr>\n",
       "    <tr>\n",
       "      <th>Wednesday</th>\n",
       "      <td>5.423790</td>\n",
       "      <td>2.0</td>\n",
       "    </tr>\n",
       "    <tr>\n",
       "      <th>Thursday</th>\n",
       "      <td>5.399714</td>\n",
       "      <td>3.0</td>\n",
       "    </tr>\n",
       "    <tr>\n",
       "      <th>Friday</th>\n",
       "      <td>5.484143</td>\n",
       "      <td>4.0</td>\n",
       "    </tr>\n",
       "    <tr>\n",
       "      <th>Saturday</th>\n",
       "      <td>5.334621</td>\n",
       "      <td>5.0</td>\n",
       "    </tr>\n",
       "    <tr>\n",
       "      <th>Sunday</th>\n",
       "      <td>5.052435</td>\n",
       "      <td>6.0</td>\n",
       "    </tr>\n",
       "  </tbody>\n",
       "</table>\n",
       "</div>"
      ],
      "text/plain": [
       "                aqi  weekday_num\n",
       "weekday                         \n",
       "Monday     5.254971          0.0\n",
       "Tuesday    5.396523          1.0\n",
       "Wednesday  5.423790          2.0\n",
       "Thursday   5.399714          3.0\n",
       "Friday     5.484143          4.0\n",
       "Saturday   5.334621          5.0\n",
       "Sunday     5.052435          6.0"
      ]
     },
     "execution_count": 111,
     "metadata": {},
     "output_type": "execute_result"
    }
   ],
   "source": [
    "new_df"
   ]
  },
  {
   "cell_type": "code",
   "execution_count": 105,
   "metadata": {},
   "outputs": [
    {
     "data": {
      "text/plain": [
       "<AxesSubplot:title={'center':'total consumption per day of the week'}, xlabel='weekday'>"
      ]
     },
     "execution_count": 105,
     "metadata": {},
     "output_type": "execute_result"
    },
    {
     "data": {
      "image/png": "[encoded data removed]",
      "text/plain": [
       "<Figure size 432x288 with 1 Axes>"
      ]
     },
     "metadata": {
      "needs_background": "light"
     },
     "output_type": "display_data"
    }
   ],
   "source": [
    "new_df.plot(kind='bar', y='aqi', legend=False, title='total consumption per day of the week')"
   ]
  },
  {
   "cell_type": "markdown",
   "metadata": {},
   "source": [
    "### <font color='green'>BONUS SECTION: </font> Shifting\n",
    "\n",
    "It can be often useful to shift some variables forward or backwards in time. This can for example help us create variables with lagged values or calculate differences in values between time steps. This can be done using Panda's `shift` method, which can shift values by a given number of periods (positive or negative). \n",
    "\n",
    "The example below uses this method to create a new variable for AQI during the previous day:"
   ]
  },
  {
   "cell_type": "code",
   "execution_count": 112,
   "metadata": {},
   "outputs": [
    {
     "data": {
      "text/html": [
       "<div>\n",
       "<style scoped>\n",
       "    .dataframe tbody tr th:only-of-type {\n",
       "        vertical-align: middle;\n",
       "    }\n",
       "\n",
       "    .dataframe tbody tr th {\n",
       "        vertical-align: top;\n",
       "    }\n",
       "\n",
       "    .dataframe thead th {\n",
       "        text-align: right;\n",
       "    }\n",
       "</style>\n",
       "<table border=\"1\" class=\"dataframe\">\n",
       "  <thead>\n",
       "    <tr style=\"text-align: right;\">\n",
       "      <th></th>\n",
       "      <th>aqi</th>\n",
       "      <th>aqi_yesterday</th>\n",
       "      <th>change_in_aqi</th>\n",
       "    </tr>\n",
       "    <tr>\n",
       "      <th>date_local</th>\n",
       "      <th></th>\n",
       "      <th></th>\n",
       "      <th></th>\n",
       "    </tr>\n",
       "  </thead>\n",
       "  <tbody>\n",
       "    <tr>\n",
       "      <th>2007-08-02</th>\n",
       "      <td>5.894895</td>\n",
       "      <td>5.522124</td>\n",
       "      <td>0.372771</td>\n",
       "    </tr>\n",
       "    <tr>\n",
       "      <th>2007-08-03</th>\n",
       "      <td>5.928358</td>\n",
       "      <td>5.894895</td>\n",
       "      <td>0.033463</td>\n",
       "    </tr>\n",
       "    <tr>\n",
       "      <th>2007-08-04</th>\n",
       "      <td>5.792285</td>\n",
       "      <td>5.928358</td>\n",
       "      <td>-0.136073</td>\n",
       "    </tr>\n",
       "    <tr>\n",
       "      <th>2007-08-05</th>\n",
       "      <td>5.744807</td>\n",
       "      <td>5.792285</td>\n",
       "      <td>-0.047478</td>\n",
       "    </tr>\n",
       "    <tr>\n",
       "      <th>2007-08-06</th>\n",
       "      <td>5.398230</td>\n",
       "      <td>5.744807</td>\n",
       "      <td>-0.346577</td>\n",
       "    </tr>\n",
       "  </tbody>\n",
       "</table>\n",
       "</div>"
      ],
      "text/plain": [
       "                 aqi  aqi_yesterday  change_in_aqi\n",
       "date_local                                        \n",
       "2007-08-02  5.894895       5.522124       0.372771\n",
       "2007-08-03  5.928358       5.894895       0.033463\n",
       "2007-08-04  5.792285       5.928358      -0.136073\n",
       "2007-08-05  5.744807       5.792285      -0.047478\n",
       "2007-08-06  5.398230       5.744807      -0.346577"
      ]
     },
     "execution_count": 112,
     "metadata": {},
     "output_type": "execute_result"
    }
   ],
   "source": [
    "(\n",
    "    air_df\n",
    "    .assign(aqi_yesterday = lambda df: df.aqi.shift(1))\n",
    "    .assign(change_in_aqi = lambda df: df.aqi - df.aqi_yesterday)\n",
    "    .dropna()\n",
    "    .head()\n",
    ")"
   ]
  },
  {
   "cell_type": "markdown",
   "metadata": {},
   "source": [
    "\n",
    "\n",
    "<a id='roll'></a>\n",
    "\n",
    "## 4. Smoothing\n",
    "\n",
    "Let us have a closer look at the air quality patterns during a single year. \n",
    "\n",
    "The simplest way to plot timestamp data dynamics in Pandas is using the `plot` method, which by default plots a linear plot over time:"
   ]
  },
  {
   "cell_type": "code",
   "execution_count": null,
   "metadata": {},
   "outputs": [],
   "source": [
    "air_df_2016 = air_df.loc['2016']\n",
    "\n",
    "air_df_2016.plot(figsize=(18,6));"
   ]
  },
  {
   "cell_type": "markdown",
   "metadata": {},
   "source": [
    "### Rolling Average smoothing\n",
    "\n",
    "Various patterns can be seen on this daily line graph, but the overall trend can be hard to see due to noise plentiful short spikes. \n",
    "\n",
    "In order to see a *smoother* pattern over time, a __rolling average__ can be applied to a Time Series. It walks over the timestamps with a given window (7 days for example) and calculates averages for each. \n",
    "\n",
    "Pandas can perform this via the `rolling` method which can be called on both a DataFrame as well as a Series object. The window size for this method can be set using both a fixed number of data points as well as particular time intervals (days, weeks etc)."
   ]
  },
  {
   "cell_type": "code",
   "execution_count": null,
   "metadata": {},
   "outputs": [],
   "source": [
    "(\n",
    "    air_df_2016\n",
    "    .assign(rolling_mean=lambda df: df['aqi'].rolling('20D').mean())\n",
    "    .plot(figsize=(16, 4))\n",
    ");"
   ]
  },
  {
   "cell_type": "markdown",
   "metadata": {},
   "source": [
    "Note that the orange *rolling mean line* is lagging behind what actually happens. This is because, by default, each point of the rolling average represents information about this day and the preceding days - not just this particular moment! We can remove this effect using *centering*.\n",
    "\n",
    "To center the rolling mean, we can either manually shift it backwards or use the option `center=True` for the `rolling()` method. You can see below how both achieve the same result - the red and green (overlapping) lines do not lag anymore. \n",
    "\n",
    "__Importantly__, centering requires information from the future for each point. This makes centering bad practice if we want to further make predictions about the future — this information is then already contained in the present data points, which is referred to as *information leakage* in machine learning."
   ]
  },
  {
   "cell_type": "code",
   "execution_count": null,
   "metadata": {},
   "outputs": [],
   "source": [
    "(\n",
    "    air_df_2016\n",
    "    .assign(\n",
    "        rolling_mean=lambda df: df['aqi'].rolling('20D').mean(),\n",
    "        # With `center=True` window size cannot be a time frame!\n",
    "        rolling_mean_center=lambda df: df['aqi'].rolling(20, center=True).mean(),\n",
    "        manual_center=lambda df: df['rolling_mean'].shift(-9)\n",
    "    )\n",
    "    .plot(figsize=(16,4), title='rolling_mean_center and manual_center overlap')\n",
    ");"
   ]
  },
  {
   "cell_type": "markdown",
   "metadata": {},
   "source": [
    "Rolling average smoothing is a simple way to isolate signal from noise in Time Series data and get an idea about general Time Series behavior.\n",
    "\n",
    "However, there are some notable drawbacks:\n",
    "\n",
    "- Highly dependent on window size: \n",
    "    - using a small window sizes can lead to more noise than signal;\n",
    "    - using a large window size can remove important signal information).\n",
    "- It always lags by the window size (unless centered).\n",
    "- It is not really informative about the future.\n",
    "- It can be significantly skewed by extreme datapoints in the past."
   ]
  },
  {
   "cell_type": "markdown",
   "metadata": {},
   "source": [
    "### <mark>Exercise: Weekday with worst air quality</mark>\n",
    "\n",
    "In a previous exercise we saw that the week commencing Monday 24th December 2007 had the worst average air quality.\n"
   ]
  },
  {
   "cell_type": "code",
   "execution_count": null,
   "metadata": {},
   "outputs": [],
   "source": [
    "(\n",
    "    air_df\n",
    "    .resample('W-Mon')\n",
    "    .mean()\n",
    "    .nlargest(1, 'aqi')\n",
    ")"
   ]
  },
  {
   "cell_type": "markdown",
   "metadata": {},
   "source": [
    "However, this is not necessarilly the 7-day period that had the worst average air quality.\n",
    "\n",
    "For example, that may span a Friday to Thursday, as opposed to Monday to Sunday.\n",
    "\n",
    "Find the 7-day period that had the worst average air quality.\n"
   ]
  },
  {
   "cell_type": "code",
   "execution_count": null,
   "metadata": {},
   "outputs": [],
   "source": [
    "# %load answers/rolling.py"
   ]
  },
  {
   "cell_type": "markdown",
   "metadata": {},
   "source": [
    "### <font color='green'>BONUS SECTION: </font> Exponential Smoothing\n",
    "\n",
    "An alternative to calculating the rolling statistics is to smooth the timeseries exponentially with the following formula:\n",
    "\n",
    "$$\\hat{y_t} = \\alpha y_t + (1-\\alpha) \\hat{y}_{t-1}$$\n",
    "\n",
    "where $\\hat{y_t}$ is the output of the exponential smoothing at time $t$, $y_t$ is the data point at time $t$, and $0<\\alpha<1$ is the *the smoothing factor*.\n",
    "\n",
    "\n",
    "The idea is to recursively smooth the series by averaging the current average with the current value. If $\\alpha$ is high then the smoothing will be low but the average can respond quicker to changes, and if it is low — the result will be much more smooth and flat."
   ]
  },
  {
   "cell_type": "code",
   "execution_count": null,
   "metadata": {},
   "outputs": [],
   "source": [
    "(\n",
    "    air_df_2016\n",
    "    .assign(\n",
    "        smoothed_01=lambda df: df['aqi'].ewm(alpha=0.1).mean(),\n",
    "        smoothed_001=lambda df: df['aqi'].ewm(alpha=0.01).mean()\n",
    "    )\n",
    "    .plot(figsize=(16, 4))\n",
    ");"
   ]
  },
  {
   "cell_type": "markdown",
   "metadata": {},
   "source": [
    "Exponential Smoothing exhibits reduced lagging and more weight assigned to the current timestamps compared to Simple Rolling Averages, which also makes it more informative about the future. You can read more about EWM (exponentially weighted Moving average) in the pandas [docs].\n",
    "\n",
    "[docs]: https://pandas.pydata.org/pandas-docs/stable/user_guide/computation.html#exponentially-weighted-windows\n",
    "\n",
    "Other alternatives are [weighted smoothing](http://pandas.pydata.org/pandas-docs/stable/user_guide/computation.html#rolling-windows) and [expanding windows](https://pandas.pydata.org/pandas-docs/stable/reference/api/pandas.DataFrame.expanding.html). "
   ]
  },
  {
   "cell_type": "markdown",
   "metadata": {},
   "source": [
    "<a id='sum'></a>\n",
    "## 5. Summary\n",
    "\n",
    "We have covered: \n",
    "- Timestamps and formatting in Pandas\n",
    "- How to properly read in Time Series data in Pandas, and why it is important to set the date as an index\n",
    "- Time based manipulations, such as aggregations with `resample`, time-based features based on dtype `datetime` and shifting\n",
    "- Smoothing with rolling averages, its disadvantages and some alternatives.\n",
    "\n",
    "We should now be able to answer analytics questions like: \n",
    "- Which year had the worst air quality?\n",
    "- Which five day period had the largest decrease in air quality (between the first and last day)?\n",
    "- Does air quality improve over the weekend? \n"
   ]
  }
 ],
 "metadata": {
  "kernelspec": {
   "display_name": "Python 3 (ipykernel)",
   "language": "python",
   "name": "python3"
  },
  "language_info": {
   "codemirror_mode": {
    "name": "ipython",
    "version": 3
   },
   "file_extension": ".py",
   "mimetype": "text/x-python",
   "name": "python",
   "nbconvert_exporter": "python",
   "pygments_lexer": "ipython3",
   "version": "3.9.13"
  }
 },
 "nbformat": 4,
 "nbformat_minor": 4
}
